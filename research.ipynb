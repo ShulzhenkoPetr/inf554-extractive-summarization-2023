{
 "cells": [
  {
   "cell_type": "code",
   "execution_count": 17,
   "metadata": {},
   "outputs": [],
   "source": [
    "import numpy as np\n",
    "import json\n",
    "import torch\n",
    "import torch_geometric\n",
    "import torch.nn as nn\n",
    "import torch_geometric.nn as gnn\n",
    "from pathlib import Path\n",
    "from sklearn.metrics import accuracy_score\n",
    "from sentence_transformers import SentenceTransformer\n",
    "from numpy.linalg import norm\n",
    "from torch_geometric.data import Data\n",
    "import networkx as nx\n",
    "import matplotlib.pyplot as plt"
   ]
  },
  {
   "cell_type": "code",
   "execution_count": 2,
   "metadata": {},
   "outputs": [],
   "source": [
    "def flatten(list_of_list):\n",
    "    return [item for sublist in list_of_list for item in sublist]\n",
    "\n",
    "training_set = ['ES2002']\n",
    "# training_set = ['ES2002', 'ES2005', 'ES2006', 'ES2007', 'ES2008', 'ES2009', 'ES2010', 'ES2012', 'ES2013', 'ES2015', 'ES2016', 'IS1000', 'IS1001', 'IS1002', 'IS1003', 'IS1004', 'IS1005', 'IS1006', 'IS1007', 'TS3005', 'TS3008', 'TS3009', 'TS3010', 'TS3011', 'TS3012']\n",
    "training_set = flatten([[m_id+s_id for s_id in 'abcd'] for m_id in training_set])\n",
    "training_set.remove('ES2002a')\n",
    "# training_set.remove('IS1002a')\n",
    "# training_set.remove('IS1005d')\n",
    "# training_set.remove('TS3012c')\n",
    "\n",
    "test_set = ['ES2003']\n",
    "# test_set = ['ES2003', 'ES2004', 'ES2011', 'ES2014', 'IS1008', 'IS1009', 'TS3003', 'TS3004', 'TS3006', 'TS3007']\n",
    "test_set = flatten([[m_id+s_id for s_id in 'abcd'] for m_id in test_set])"
   ]
  },
  {
   "cell_type": "code",
   "execution_count": 3,
   "metadata": {},
   "outputs": [],
   "source": [
    "path_to_training = Path(\"training\")\n",
    "path_to_test = Path(\"test\")"
   ]
  },
  {
   "cell_type": "code",
   "execution_count": 4,
   "metadata": {},
   "outputs": [],
   "source": [
    "with open(\"training_labels.json\", \"r\") as file:\n",
    "    training_labels = json.load(file)\n",
    "\n",
    "Bert_training = []\n",
    "E_training = [] # Contains edges of the graphs, with associated labels\n",
    "y_training = []\n",
    "\n",
    "n_examples = len(training_set)\n",
    "\n",
    "for train_id in training_set:\n",
    "    current_bert = []\n",
    "    with open(path_to_training / f\"{train_id}.json\", \"r\") as file:\n",
    "        transcription = json.load(file)\n",
    "\n",
    "    for utterance in transcription:\n",
    "        current_bert.append(utterance[\"speaker\"] + \": \" + utterance[\"text\"])\n",
    "    y_training.append(training_labels[train_id])\n",
    "    Bert_training.append(current_bert)\n",
    "\n",
    "    with open(path_to_training / f\"{train_id}.txt\", \"r\") as file:\n",
    "        lines = [line.rstrip() for line in file]\n",
    "        edges = [line.split(\" \") for line in lines]\n",
    "        edges = [[edge[1], int(edge[0]), int(edge[2])] for edge in edges]\n",
    "        E_training.append(edges)\n",
    "edge_tensor = [torch.LongTensor([[l[1], l[2]] for l in edge_set] + [[l[2], l[1]] for l in edge_set]).T for edge_set in E_training]\n",
    "edge_index = [np.array([[l[1], l[2]] for l in edge_set] + [[l[2], l[1]] for l in edge_set]) for edge_set in E_training]\n",
    "adjacency_lists = [[[l[1], l[2]] for l in edge_set] for edge_set in E_training]"
   ]
  },
  {
   "cell_type": "code",
   "execution_count": 5,
   "metadata": {},
   "outputs": [],
   "source": [
    "bert = SentenceTransformer('all-MiniLM-L6-v2')\n",
    "\n",
    "Embeddings_training = [bert.encode(el, show_progress_bar=False) for el in Bert_training]"
   ]
  },
  {
   "cell_type": "code",
   "execution_count": 139,
   "metadata": {},
   "outputs": [],
   "source": [
    "# Calculating useful node features\n",
    "\n",
    "graphs = [nx.Graph(l) for l in adjacency_lists]\n",
    "centralities = [nx.betweenness_centrality(G) for G in graphs]\n",
    "node_features = [torch.tensor([[graphs[a].degree(i), centralities[a][i]] for i in range(graphs[a].number_of_nodes())]) for a in range(len(graphs))]"
   ]
  },
  {
   "cell_type": "code",
   "execution_count": 7,
   "metadata": {},
   "outputs": [],
   "source": [
    "# Calculating useful edge features\n",
    "edge_cosine_sim = [np.array([Embeddings_training[i][edge[0]] @ Embeddings_training[i][edge[1]] / (norm(Embeddings_training[i][edge[0]]) * norm(Embeddings_training[i][edge[1]])) for edge in edge_index[i]]) for i in range(n_examples)]\n",
    "edge_distance = [np.array([norm(Embeddings_training[i][edge[0]] - Embeddings_training[i][edge[1]]) for edge in edge_index[i]]) for i in range(n_examples)]\n",
    "edge_label = [np.array([l[0] for l in edge_set]) for edge_set in E_training]\n",
    "\n",
    "edge_attr = [torch.tensor(np.column_stack([edge_cosine_sim[i], edge_distance[i]])).T for i in range(n_examples)]"
   ]
  },
  {
   "cell_type": "code",
   "execution_count": 8,
   "metadata": {},
   "outputs": [],
   "source": [
    "data = [Data(x=node_features[i], edge_index=edge_tensor[i], edge_attr=edge_attr[i]) for i in range(n_examples)]"
   ]
  },
  {
   "cell_type": "code",
   "execution_count": 230,
   "metadata": {},
   "outputs": [
    {
     "name": "stdout",
     "output_type": "stream",
     "text": [
      "6331\n"
     ]
    }
   ],
   "source": [
    "\n",
    "\n",
    "model = gnn.Sequential('x, edge_index, edge_attr,', [\n",
    "    (gnn.ResGatedGraphConv(2, 30, edge_dim = 2), 'x, edge_index, edge_attr -> x'),\n",
    "    nn.ReLU(),\n",
    "    (gnn.ResGatedGraphConv(30, 30, edge_dim = 2), 'x, edge_index, edge_attr -> x'),\n",
    "    nn.ReLU(),\n",
    "    (gnn.GCNConv(30, 30), 'x, edge_index -> x'),\n",
    "    nn.ReLU(),\n",
    "    (gnn.GCNConv(30, 30), 'x, edge_index -> x'),\n",
    "    nn.ReLU(),\n",
    "    gnn.Linear(30, 1),\n",
    "    nn.Sigmoid()\n",
    "])\n",
    "\n",
    "pp=0\n",
    "for p in list(model.parameters()):\n",
    "    a=1\n",
    "    for s in list(p.size()):\n",
    "        a = a*s\n",
    "    pp += a\n",
    "print(pp)"
   ]
  },
  {
   "cell_type": "code",
   "execution_count": 231,
   "metadata": {},
   "outputs": [
    {
     "name": "stdout",
     "output_type": "stream",
     "text": [
      "tensor(168.)\n",
      "tensor(0.5127, grad_fn=<MeanBackward0>)\n"
     ]
    },
    {
     "data": {
      "image/png": "[encoded data removed]",
      "text/plain": [
       "<Figure size 640x480 with 1 Axes>"
      ]
     },
     "metadata": {},
     "output_type": "display_data"
    },
    {
     "data": {
      "image/png": "[encoded data removed]",
      "text/plain": [
       "<Figure size 640x480 with 1 Axes>"
      ]
     },
     "metadata": {},
     "output_type": "display_data"
    },
    {
     "name": "stdout",
     "output_type": "stream",
     "text": [
      "\n",
      "\n",
      "La précision est de :\n",
      "0.3247721623860812\n",
      "\n",
      "\n"
     ]
    }
   ],
   "source": [
    "device = torch.device(\"cuda:0\" if torch.cuda.is_available() else \"cpu\")\n",
    "\n",
    "model.to(device)\n",
    "\n",
    "\n",
    "optimizer = torch.optim.SGD(model.parameters(), lr=10) #actually SGD is just GD in this case\n",
    "\n",
    "losses = []\n",
    "tr_acc = []\n",
    "tr_f1 = []\n",
    "for epoch in range(500):\n",
    "    for i in range(3):\n",
    "        dataset = data[i].to(device)\n",
    "        Y_train = torch.FloatTensor(y_training[i]).to(device).unsqueeze(1)\n",
    "        output = model(dataset.x, dataset.edge_index, dataset.edge_attr.T)\n",
    "        weights = Y_train * (Y_train.shape[0] - Y_train.sum()) + (-Y_train + 1) * Y_train.sum()\n",
    "        loss_function = nn.BCELoss(weight = weights/(weights.sum())) # Weighing positive examples more to favorise F1-score\n",
    "        loss = loss_function(output, Y_train)\n",
    "        optimizer.zero_grad() #required since pytorch accumulates the gradients\n",
    "        loss.backward() #backpropagation step\n",
    "        optimizer.step() #update the parameters\n",
    "\n",
    "        losses.append(loss.data)\n",
    "        guesses = np.round(output.detach().numpy())\n",
    "        reality = Y_train.detach().numpy()\n",
    "        tr_acc.append(accuracy_score(reality, guesses))\n",
    "        p = np.sum(guesses * reality) / np.sum(guesses)\n",
    "        r = np.sum(guesses * reality) / np.sum(reality)\n",
    "        tr_f1.append(2*p*r/(p+r))\n",
    "\n",
    "print(Y_train.sum())\n",
    "print(output.mean())\n",
    "plt.figure()\n",
    "plt.plot(tr_acc)\n",
    "plt.show()\n",
    "plt.figure()\n",
    "plt.plot(tr_f1)\n",
    "plt.show()\n",
    "print(\"\\n\\nLa précision est de :\")\n",
    "print(tr_acc[-1])\n",
    "print(\"\\n\")"
   ]
  }
 ],
 "metadata": {
  "kernelspec": {
   "display_name": "Python 3",
   "language": "python",
   "name": "python3"
  },
  "language_info": {
   "codemirror_mode": {
    "name": "ipython",
    "version": 3
   },
   "file_extension": ".py",
   "mimetype": "text/x-python",
   "name": "python",
   "nbconvert_exporter": "python",
   "pygments_lexer": "ipython3",
   "version": "3.10.7"
  }
 },
 "nbformat": 4,
 "nbformat_minor": 2
}
